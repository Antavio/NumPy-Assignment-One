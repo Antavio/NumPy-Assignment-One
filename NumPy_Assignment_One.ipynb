{
 "cells": [
  {
   "cell_type": "markdown",
   "id": "1f6cc341-7a78-4b2a-8f26-4205c8309b7d",
   "metadata": {},
   "source": [
    "### NumPy Assignment"
   ]
  },
  {
   "cell_type": "code",
   "execution_count": 1,
   "id": "3a95e65b-cece-419c-9ae7-1a2ae920e856",
   "metadata": {},
   "outputs": [],
   "source": [
    "import numpy as np"
   ]
  },
  {
   "cell_type": "code",
   "execution_count": 2,
   "id": "e633e50d-efcb-40fc-bf25-e8dc68bfb01d",
   "metadata": {},
   "outputs": [],
   "source": [
    " heights = np.array([160, 155, 172, 165, 180, 158, 175, 163, 171, 168])"
   ]
  },
  {
   "cell_type": "code",
   "execution_count": 7,
   "id": "79b3558d-9fc6-4c55-8ee7-a0306dccd8c9",
   "metadata": {},
   "outputs": [
    {
     "name": "stdout",
     "output_type": "stream",
     "text": [
      "Mean of student's mean: 166.7\n"
     ]
    }
   ],
   "source": [
    "# Mean\n",
    "student_mean = np.mean(heights)\n",
    "print(f\"Mean of student's mean: {student_mean}\")"
   ]
  },
  {
   "cell_type": "code",
   "execution_count": 8,
   "id": "2bc0dc9a-cfac-4e31-bb62-b344e383484c",
   "metadata": {},
   "outputs": [
    {
     "name": "stdout",
     "output_type": "stream",
     "text": [
      "Mean of student's mean: 166.5\n"
     ]
    }
   ],
   "source": [
    "# Median\n",
    "student_median = np.median(heights)\n",
    "print(f\"Mean of student's median: {student_median}\")"
   ]
  },
  {
   "cell_type": "code",
   "execution_count": 9,
   "id": "282ac498-687e-49b4-89aa-3fe77324f939",
   "metadata": {},
   "outputs": [
    {
     "name": "stdout",
     "output_type": "stream",
     "text": [
      "standard deviation: 7.5372408744845085\n"
     ]
    }
   ],
   "source": [
    "# standard deviation\n",
    "sd_students = np.std(heights)\n",
    "print(f\"standard deviation: {sd_students}\")"
   ]
  },
  {
   "cell_type": "code",
   "execution_count": null,
   "id": "6606ac20-30ea-4075-bb71-56801ddfeae5",
   "metadata": {},
   "outputs": [],
   "source": [
    "# Normalized heights\n",
    "normalized_heights = (heights - student_mean)/"
   ]
  },
  {
   "cell_type": "code",
   "execution_count": 14,
   "id": "7aceffa7-4d6d-45f5-9f9c-a7642852dd73",
   "metadata": {},
   "outputs": [
    {
     "name": "stdout",
     "output_type": "stream",
     "text": [
      "Tallest student: 180\n",
      "Shortest student: 155\n",
      "Difference between the tallest and shortest student is: 25\n"
     ]
    }
   ],
   "source": [
    "# Tallest and shortest students\n",
    "tallest_student = np.argmax(heights)\n",
    "shortest_student = np.argmin(heights)\n",
    "\n",
    "print(f\"Tallest student: {heights[tallest_student]}\")\n",
    "print(f\"Shortest student: {heights[shortest_student]}\")\n",
    "print(f\"Difference between the tallest and shortest student is: {heights[tallest_student]-heights[shortest_student]}\")"
   ]
  },
  {
   "cell_type": "code",
   "execution_count": 23,
   "id": "459a1a77-73a8-4720-91b2-54609b2cfa90",
   "metadata": {},
   "outputs": [
    {
     "name": "stdout",
     "output_type": "stream",
     "text": [
      "5 random heights without replacement [160 171 180 172 155]\n"
     ]
    }
   ],
   "source": [
    "# Random heights without replacement\n",
    "random_5_heights = np.random.choice(heights, 5, replace=False)\n",
    "print(\"5 random heights without replacement\", random_5_heights)"
   ]
  }
 ],
 "metadata": {
  "kernelspec": {
   "display_name": "Python 3 (ipykernel)",
   "language": "python",
   "name": "python3"
  },
  "language_info": {
   "codemirror_mode": {
    "name": "ipython",
    "version": 3
   },
   "file_extension": ".py",
   "mimetype": "text/x-python",
   "name": "python",
   "nbconvert_exporter": "python",
   "pygments_lexer": "ipython3",
   "version": "3.11.7"
  }
 },
 "nbformat": 4,
 "nbformat_minor": 5
}
